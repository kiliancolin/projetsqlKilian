{
  "cells": [
    {
      "cell_type": "code",
      "source": [
        "a = \"requete/\"\n",
        "b = \".txt\"\n",
        "print(a+str(1)+b)\n"
      ],
      "outputs": [
        {
          "output_type": "stream",
          "name": "stdout",
          "text": [
            "requete/1.txt\n"
          ]
        }
      ],
      "execution_count": 2,
      "metadata": {
        "collapsed": true,
        "jupyter": {
          "source_hidden": false,
          "outputs_hidden": false
        },
        "nteract": {
          "transient": {
            "deleting": false
          }
        },
        "execution": {
          "shell.execute_reply": "2021-02-18T13:01:28.087Z",
          "iopub.status.busy": "2021-02-18T13:10:08.773Z",
          "iopub.execute_input": "2021-02-18T13:10:08.796Z",
          "iopub.status.idle": "2021-02-18T13:10:08.854Z"
        }
      }
    },
    {
      "cell_type": "code",
      "source": [
        "mot = \"abricot\"\n",
        "for i in range(0,len(mot)-2):\n",
        "    print(mot)\n",
        "    if mot[i] == \"r\":\n",
        "      mot = mot[i+1:len(mot)]\n",
        "print(mot)\n"
      ],
      "outputs": [
        {
          "output_type": "stream",
          "name": "stdout",
          "text": [
            "abricot\n",
            "abricot\n",
            "abricot\n",
            "icot\n",
            "icot\n"
          ]
        },
        {
          "output_type": "error",
          "ename": "IndexError",
          "evalue": "string index out of range",
          "traceback": [
            "\u001b[1;31m---------------------------------------------------------------------------\u001b[0m",
            "\u001b[1;31mIndexError\u001b[0m                                Traceback (most recent call last)",
            "\u001b[1;32m<ipython-input-22-3e948f896db1>\u001b[0m in \u001b[0;36m<module>\u001b[1;34m\u001b[0m\n\u001b[0;32m      2\u001b[0m \u001b[1;32mfor\u001b[0m \u001b[0mi\u001b[0m \u001b[1;32min\u001b[0m \u001b[0mrange\u001b[0m\u001b[1;33m(\u001b[0m\u001b[1;36m0\u001b[0m\u001b[1;33m,\u001b[0m\u001b[0mlen\u001b[0m\u001b[1;33m(\u001b[0m\u001b[0mmot\u001b[0m\u001b[1;33m)\u001b[0m\u001b[1;33m-\u001b[0m\u001b[1;36m2\u001b[0m\u001b[1;33m)\u001b[0m\u001b[1;33m:\u001b[0m\u001b[1;33m\u001b[0m\u001b[1;33m\u001b[0m\u001b[0m\n\u001b[0;32m      3\u001b[0m     \u001b[0mprint\u001b[0m\u001b[1;33m(\u001b[0m\u001b[0mmot\u001b[0m\u001b[1;33m)\u001b[0m\u001b[1;33m\u001b[0m\u001b[1;33m\u001b[0m\u001b[0m\n\u001b[1;32m----> 4\u001b[1;33m     \u001b[1;32mif\u001b[0m \u001b[0mmot\u001b[0m\u001b[1;33m[\u001b[0m\u001b[0mi\u001b[0m\u001b[1;33m]\u001b[0m \u001b[1;33m==\u001b[0m \u001b[1;34m\"r\"\u001b[0m\u001b[1;33m:\u001b[0m\u001b[1;33m\u001b[0m\u001b[1;33m\u001b[0m\u001b[0m\n\u001b[0m\u001b[0;32m      5\u001b[0m       \u001b[0mmot\u001b[0m \u001b[1;33m=\u001b[0m \u001b[0mmot\u001b[0m\u001b[1;33m[\u001b[0m\u001b[0mi\u001b[0m\u001b[1;33m+\u001b[0m\u001b[1;36m1\u001b[0m\u001b[1;33m:\u001b[0m\u001b[0mlen\u001b[0m\u001b[1;33m(\u001b[0m\u001b[0mmot\u001b[0m\u001b[1;33m)\u001b[0m\u001b[1;33m]\u001b[0m\u001b[1;33m\u001b[0m\u001b[1;33m\u001b[0m\u001b[0m\n\u001b[0;32m      6\u001b[0m \u001b[0mprint\u001b[0m\u001b[1;33m(\u001b[0m\u001b[0mmot\u001b[0m\u001b[1;33m)\u001b[0m\u001b[1;33m\u001b[0m\u001b[1;33m\u001b[0m\u001b[0m\n",
            "\u001b[1;31mIndexError\u001b[0m: string index out of range"
          ]
        }
      ],
      "execution_count": 22,
      "metadata": {
        "collapsed": true,
        "jupyter": {
          "source_hidden": false,
          "outputs_hidden": false
        },
        "nteract": {
          "transient": {
            "deleting": false
          }
        },
        "execution": {
          "iopub.status.busy": "2021-02-18T13:35:09.650Z",
          "iopub.execute_input": "2021-02-18T13:35:09.656Z",
          "shell.execute_reply": "2021-02-18T13:34:52.383Z",
          "iopub.status.idle": "2021-02-18T13:34:52.377Z"
        }
      }
    },
    {
      "cell_type": "code",
      "source": [
        "d = {}\n",
        "a = [a,1]\n",
        "d[a[0]] = a[1]\n",
        "print(d)"
      ],
      "outputs": [
        {
          "output_type": "stream",
          "name": "stdout",
          "text": [
            "{'a': 1}\n"
          ]
        }
      ],
      "execution_count": 5,
      "metadata": {
        "collapsed": true,
        "jupyter": {
          "source_hidden": false,
          "outputs_hidden": false
        },
        "nteract": {
          "transient": {
            "deleting": false
          }
        },
        "execution": {
          "iopub.status.busy": "2021-02-19T13:36:03.598Z",
          "iopub.execute_input": "2021-02-19T13:36:03.608Z",
          "iopub.status.idle": "2021-02-19T13:36:03.631Z",
          "shell.execute_reply": "2021-02-19T13:36:03.639Z"
        }
      }
    },
    {
      "cell_type": "code",
      "source": [
        "d = {}\n",
        "d[1] = ['?','r']\n",
        "print(d[1][1])"
      ],
      "outputs": [
        {
          "output_type": "stream",
          "name": "stdout",
          "text": [
            "r\n"
          ]
        }
      ],
      "execution_count": 4,
      "metadata": {
        "collapsed": true,
        "jupyter": {
          "source_hidden": false,
          "outputs_hidden": false
        },
        "nteract": {
          "transient": {
            "deleting": false
          }
        },
        "execution": {
          "shell.execute_reply": "2021-02-28T17:58:06.551Z",
          "iopub.status.busy": "2021-02-28T17:58:06.490Z",
          "iopub.execute_input": "2021-02-28T17:58:06.505Z",
          "iopub.status.idle": "2021-02-28T17:58:06.533Z"
        }
      }
    },
    {
      "cell_type": "code",
      "source": [
        "import tkinter\n",
        "import os\n",
        "\n",
        "def afficher_table(table, titre =\"\", debut = 0, fin = None):\n",
        "\tif titre != \"\":\n",
        "\t\ttitre += \"\\n\\n\"\n",
        "\t#print(titre + texte_table(table, debut, fin))\n",
        "\taffichage(titre + texte_table(table, debut, fin), titre)\n",
        "    \n",
        "def texte_table(table, debut = 0, fin = None):\n",
        "  texte = ''\n",
        "  for i in range(len(table)):\n",
        "    texte = texte + str(table[i]) + '\\n'\n",
        "  return texte\n",
        "\n",
        "def affichage(texte, titre = \"Requêtes tables\"):\n",
        "\troot = tkinter.Tk()\n",
        "\troot.title(str(titre))\n",
        "\tRWidth=root.winfo_screenwidth() - 100\n",
        "\tRHeight=root.winfo_screenheight() - 100\n",
        "\troot.geometry(\"%dx%d+50+0\"%(RWidth, RHeight))\n",
        "\ttext=tkinter.Text(root, wrap = 'none')\n",
        "\tscroll_x=tkinter.Scrollbar(text.master, orient='horizontal', command = text.xview)\n",
        "\tscroll_x.config(command = text.xview)\n",
        "\ttext.configure(xscrollcommand = scroll_x.set)\n",
        "\tscroll_x.pack(side = 'bottom', fill = 'x', anchor = 'w')\n",
        "\tscroll_y = tkinter.Scrollbar(text.master)\n",
        "\tscroll_y.config(command = text.yview)\n",
        "\ttext.configure(yscrollcommand = scroll_y.set)\n",
        "\tscroll_y.pack(side = tkinter.RIGHT, fill = 'y')\n",
        "\ttext.insert(\"1.0\", texte)\n",
        "\ttext.pack(side = tkinter.LEFT, expand = True, fill = tkinter.BOTH)\n",
        "\troot.mainloop()\n",
        "\n",
        "table = ('café','tisane','thé', 'chocolat')\n",
        "afficher_table(table, 'boisson chaude')"
      ],
      "outputs": [],
      "execution_count": 5,
      "metadata": {
        "collapsed": true,
        "jupyter": {
          "source_hidden": false,
          "outputs_hidden": false
        },
        "nteract": {
          "transient": {
            "deleting": false
          }
        },
        "execution": {
          "iopub.status.busy": "2021-03-04T13:35:02.124Z",
          "iopub.execute_input": "2021-03-04T13:35:02.174Z",
          "shell.execute_reply": "2021-03-04T13:35:05.076Z",
          "iopub.status.idle": "2021-03-04T13:35:05.100Z"
        }
      }
    },
    {
      "cell_type": "code",
      "source": [
        "def texte_table(table, debut = 0, fin = None):\n",
        "  texte = ''\n",
        "  for i in range(len(table)):\n",
        "    texte = texte + str(table[i]) + '\\n'\n",
        "  return texte\n",
        "\n",
        "table = ('café','tisane','thé')\n",
        "texte_table(table)"
      ],
      "outputs": [
        {
          "output_type": "execute_result",
          "execution_count": 3,
          "data": {
            "text/plain": "'café\\ntisane\\nthé\\n'"
          },
          "metadata": {}
        }
      ],
      "execution_count": 3,
      "metadata": {
        "collapsed": true,
        "jupyter": {
          "source_hidden": false,
          "outputs_hidden": false
        },
        "nteract": {
          "transient": {
            "deleting": false
          }
        },
        "execution": {
          "iopub.status.busy": "2021-03-04T11:37:24.251Z",
          "iopub.execute_input": "2021-03-04T11:37:24.269Z",
          "iopub.status.idle": "2021-03-04T11:37:24.425Z",
          "shell.execute_reply": "2021-03-04T11:37:24.439Z"
        }
      }
    },
    {
      "cell_type": "code",
      "source": [],
      "outputs": [],
      "execution_count": null,
      "metadata": {
        "collapsed": true,
        "jupyter": {
          "source_hidden": false,
          "outputs_hidden": false
        },
        "nteract": {
          "transient": {
            "deleting": false
          }
        }
      }
    },
    {
      "cell_type": "code",
      "source": [],
      "outputs": [],
      "execution_count": null,
      "metadata": {
        "collapsed": true,
        "jupyter": {
          "source_hidden": false,
          "outputs_hidden": false
        },
        "nteract": {
          "transient": {
            "deleting": false
          }
        }
      }
    }
  ],
  "metadata": {
    "kernel_info": {
      "name": "python3"
    },
    "language_info": {
      "name": "python",
      "version": "3.8.5",
      "mimetype": "text/x-python",
      "codemirror_mode": {
        "name": "ipython",
        "version": 3
      },
      "pygments_lexer": "ipython3",
      "nbconvert_exporter": "python",
      "file_extension": ".py"
    },
    "kernelspec": {
      "argv": [
        "C:\\winpython\\python-3.8.5.amd64\\python.exe",
        "-m",
        "ipykernel_launcher",
        "-f",
        "{connection_file}"
      ],
      "display_name": "Python 3",
      "language": "python",
      "name": "python3"
    },
    "nteract": {
      "version": "0.28.0"
    }
  },
  "nbformat": 4,
  "nbformat_minor": 0
}